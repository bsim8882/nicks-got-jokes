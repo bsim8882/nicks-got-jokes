{
 "cells": [
  {
   "attachments": {},
   "cell_type": "markdown",
   "id": "3e2241dd",
   "metadata": {},
   "source": [
    "# Task 1"
   ]
  },
  {
   "cell_type": "code",
   "execution_count": null,
   "id": "4648c0a4",
   "metadata": {},
   "outputs": [],
   "source": [
    "import pandas as pd\n",
    "import geopandas as gpd\n",
    "from shapely.geometry import Point, Polygon, MultiPolygon\n",
    "from geoalchemy2 import Geometry, WKTElement\n",
    "import matplotlib.pyplot as plt\n",
    "import json"
   ]
  },
  {
   "cell_type": "code",
   "execution_count": null,
   "id": "c9980f7e",
   "metadata": {},
   "outputs": [],
   "source": [
    "#Importing Feature Geometry Shapefiles\n",
    "catchments_primary = gpd.read_file(\"Catchments/catchments_primary.shp\")\n",
    "catchments_secondary = gpd.read_file(\"Catchments/catchments_secondary.shp\")\n",
    "catchments_future = gpd.read_file(\"Catchments/catchments_future.shp\")\n",
    "sa2_boundaries = gpd.read_file(\"SA2_2021_AUST_SHP_GDA2020/SA2_2021_AUST_GDA2020.shp\")\n",
    "unemployment = gpd.read_file(\"Data/SA2_unemployment.shp\")"
   ]
  },
  {
   "cell_type": "code",
   "execution_count": null,
   "id": "8e269149",
   "metadata": {},
   "outputs": [],
   "source": [
    "#Importing csv, txt files\n",
    "businesses=pd.read_csv(\"Businesses.csv\")\n",
    "income=pd.read_csv(\"Income.csv\")\n",
    "polling=pd.read_csv(\"PollingPlaces2019.csv\")\n",
    "population=pd.read_csv(\"Population.csv\")\n",
    "toilets = pd.read_csv('Australia Public Toilet Map.csv')\n",
    "stops=pd.read_csv(\"Stops.txt\", sep=\",\")"
   ]
  },
  {
   "cell_type": "code",
   "execution_count": null,
   "id": "36aabf78",
   "metadata": {},
   "outputs": [],
   "source": [
    "from sqlalchemy import create_engine\n",
    "import psycopg2\n",
    "import psycopg2.extras\n",
    "import json\n",
    "\n",
    "credentials = \"Credentials.json\"\n",
    "\n",
    "def pgconnect(credential_filepath, db_schema=\"public\"):\n",
    "    with open(credential_filepath) as f:\n",
    "        db_conn_dict = json.load(f)\n",
    "        host       = db_conn_dict['host']\n",
    "        db_user    = db_conn_dict['user']\n",
    "        db_pw      = db_conn_dict['password']\n",
    "        default_db = db_conn_dict['user']\n",
    "        try:\n",
    "            db = create_engine('postgresql+psycopg2://'+db_user+':'+db_pw+'@'+host+'/'+default_db, echo=False)\n",
    "            conn = db.connect()\n",
    "            print('Connected successfully.')\n",
    "        except Exception as e:\n",
    "            print(\"Unable to connect to the database.\")\n",
    "            print(e)\n",
    "            db, conn = None, None\n",
    "        return db,conn\n",
    "\n",
    "def query(conn, sqlcmd, args=None, df=True):\n",
    "    result = pd.DataFrame() if df else None\n",
    "    try:\n",
    "        if df:\n",
    "            result = pd.read_sql_query(sqlcmd, conn, params=args)\n",
    "        else:\n",
    "            result = conn.execute(sqlcmd, args).fetchall()\n",
    "            result = result[0] if len(result) == 1 else result\n",
    "    except Exception as e:\n",
    "        print(\"Error encountered: \", e, sep='\\n')\n",
    "    return result"
   ]
  },
  {
   "cell_type": "code",
   "execution_count": null,
   "id": "416abb62",
   "metadata": {},
   "outputs": [],
   "source": [
    "db, conn = pgconnect(credentials)"
   ]
  },
  {
   "cell_type": "code",
   "execution_count": null,
   "id": "9dc6707a",
   "metadata": {},
   "outputs": [],
   "source": [
    "unemployment"
   ]
  },
  {
   "cell_type": "code",
   "execution_count": null,
   "id": "c41c0f3a",
   "metadata": {},
   "outputs": [],
   "source": [
    "with open(\"live-traffic-cameras.json\") as traffic:\n",
    "    data = json.load(traffic)\n"
   ]
  },
  {
   "cell_type": "code",
   "execution_count": null,
   "id": "334a72ff",
   "metadata": {},
   "outputs": [],
   "source": [
    "traffic = pd.DataFrame(columns=[\"geo_point_2d\", \"region\", \"title\", \"view\", \"direction\", \"href\", \"photo\"])\n",
    "\n",
    "for i in range(0, len(data)):\n",
    "    currentItem = data[i]\n",
    "    traffic.loc[i] = [data[i][\"geo_point_2d\"], data[i][\"region\"], data[i][\"title\"], data[i][\"view\"], data[i][\"direction\"], data[i][\"href\"], data[i][\"photo\"]]\n"
   ]
  },
  {
   "cell_type": "code",
   "execution_count": null,
   "id": "cd5aee74",
   "metadata": {},
   "outputs": [],
   "source": [
    "traffic[['lng', 'lat']] = traffic[\"geo_point_2d\"].apply(pd.Series)\n",
    "traffic['geom'] = gpd.points_from_xy(traffic.lng, traffic.lat)\n",
    "traffic = traffic.drop(columns=['geo_point_2d', 'lng', 'lat', 'photo', 'href'])\n",
    "traffic['geom'] = traffic['geom'].apply(lambda x: WKTElement(x.wkt, srid=4326))\n",
    "traffic"
   ]
  },
  {
   "cell_type": "code",
   "execution_count": null,
   "id": "b9da3300",
   "metadata": {},
   "outputs": [],
   "source": [
    "sql = \"\"\"\n",
    "DROP TABLE IF EXISTS traffic;\n",
    "CREATE TABLE traffic (\n",
    "    region VARCHAR(100), \n",
    "    title VARCHAR(100), \n",
    "    view TEXT,\n",
    "    direction VARCHAR(2),\n",
    "    geom GEOMETRY(POINT,4326)\n",
    ");\"\"\"\n"
   ]
  },
  {
   "cell_type": "code",
   "execution_count": null,
   "id": "d0e97dfa",
   "metadata": {},
   "outputs": [],
   "source": [
    "traffic.to_sql('traffic', conn, if_exists='append', index=False, dtype={'geom': Geometry('POINT', 4326)})\n",
    "query(conn, \"select * from traffic\")"
   ]
  },
  {
   "cell_type": "code",
   "execution_count": null,
   "id": "cbedb911",
   "metadata": {},
   "outputs": [],
   "source": [
    "sql = \"\"\"\n",
    "DROP TABLE IF EXISTS catchments_primary;\n",
    "CREATE TABLE catchments_primary (\n",
    "USE_ID INTEGER PRIMARY KEY,\n",
    "CATCH_TYPE TEXT,\n",
    "USE_DESC TEXT, \n",
    "geometry GEOMETRY(POLYGON,4326)\n",
    "\n",
    ");\"\"\"\n",
    "\n",
    "query(conn, sql)"
   ]
  },
  {
   "cell_type": "code",
   "execution_count": null,
   "id": "05847c7d",
   "metadata": {},
   "outputs": [],
   "source": [
    "sql = \"\"\"\n",
    "DROP TABLE IF EXISTS catchments_secondary;\n",
    "CREATE TABLE catchments_secondary (\n",
    "USE_ID INTEGER PRIMARY KEY,\n",
    "CATCH_TYPE TEXT,\n",
    "USE_DESC TEXT,\n",
    "geometry GEOMETRY(POLYGON,4326)\n",
    ");\"\"\"\n",
    "\n",
    "\n",
    "query(conn, sql)"
   ]
  },
  {
   "cell_type": "code",
   "execution_count": null,
   "id": "ec5fd93f",
   "metadata": {},
   "outputs": [],
   "source": [
    "sql = \"\"\"\n",
    "DROP TABLE IF EXISTS catchments_future;\n",
    "CREATE TABLE catchments_future (\n",
    "USE_ID INTEGER PRIMARY KEY,\n",
    "CATCH_TYPE TEXT,\n",
    "USE_DESC TEXT,\n",
    "geometry GEOMETRY(POLYGON,4326)\n",
    ");\"\"\"\n",
    "\n",
    "query(conn, sql)"
   ]
  },
  {
   "cell_type": "code",
   "execution_count": null,
   "id": "d255b9f6",
   "metadata": {},
   "outputs": [],
   "source": [
    "sa2_boundaries = sa2_boundaries.drop(['CHG_FLAG21', 'CHG_LBL21', 'SA3_CODE21', 'SA3_NAME21', 'SA4_CODE21', 'SA4_NAME21', 'GCC_CODE21', 'STE_CODE21', 'STE_NAME21', 'AUS_CODE21', 'AUS_NAME21', 'LOCI_URI21'], axis = 1)\n",
    "sa2_boundaries = sa2_boundaries[sa2_boundaries['GCC_NAME21'] == 'Greater Sydney']\n",
    "sa2_boundaries = sa2_boundaries.drop(['GCC_NAME21'], axis = 1)\n",
    "sa2_boundaries['geom'] = sa2_boundaries['geometry'].apply(lambda x: create_wkt_element(geom=x,srid=4326))"
   ]
  },
  {
   "cell_type": "code",
   "execution_count": null,
   "id": "6e5167a7",
   "metadata": {},
   "outputs": [],
   "source": [
    "sql = \"\"\"\n",
    "DROP TABLE IF EXISTS sa2_boundaries;\n",
    "CREATE TABLE sa2_boundaries (\n",
    "    SA2_CODE21 INTEGER PRIMARY KEY, \n",
    "    SA2_NAME21 TEXT, \n",
    "    AREASQKM21 FLOAT,\n",
    "    geom GEOMETRY(MULTIPOLYGON,4326)\n",
    ");\"\"\"\n",
    "\n",
    "query(conn, sql)"
   ]
  },
  {
   "cell_type": "code",
   "execution_count": null,
   "id": "e9b24227",
   "metadata": {},
   "outputs": [],
   "source": [
    "sa2_boundaries.to_sql('sa2_boundaries', conn, if_exists='append', index=False, dtype={'geom': Geometry('MULTIPOLYGON', srid)})\n",
    "query(conn, \"select * from sa2_boundaries\")"
   ]
  },
  {
   "cell_type": "code",
   "execution_count": null,
   "id": "653fbaf6",
   "metadata": {},
   "outputs": [],
   "source": [
    "sql = \"\"\"\n",
    "DROP TABLE IF EXISTS income;\n",
    "CREATE TABLE income(\n",
    "    sa2_code INTEGER PRIMARY KEY,\n",
    "    sa2_name VARCHAR(100), \n",
    "    earners INTEGER, \n",
    "    median_age INTEGER,\n",
    "    median_income INTEGER,\n",
    "    mean_income INTEGER\n",
    ");\"\"\"\n",
    "\n",
    "\n",
    "query(conn, sql)"
   ]
  },
  {
   "cell_type": "code",
   "execution_count": null,
   "id": "3f8496b4",
   "metadata": {},
   "outputs": [],
   "source": [
    "sql = \"\"\"\n",
    "DROP TABLE IF EXISTS businesses;\n",
    "CREATE TABLE businesses(\n",
    "\tsa2_code INTEGER PRIMARY KEY, \n",
    "\tsa2_name VARCHAR(100)\n",
    "\t\"0_to_50k_businesses\" INTEGER\n",
    "\t\"50k_to_200k_businesses\" INTEGER\n",
    "\t\"200k_to_2m_businesses\" INTEGER\n",
    "\t\"2m_to_5m_businesses\" INTEGER\n",
    "\t\"5m_to_10m_businesses\" INTEGER\n",
    "\t\"10m_or_more_businesses\" INTEGER\n",
    "\ttotal_businesses INTEGER\n",
    ");\"\"\"\n",
    "\n",
    "query(conn, sql)"
   ]
  },
  {
   "cell_type": "code",
   "execution_count": null,
   "id": "cd83b47e",
   "metadata": {},
   "outputs": [],
   "source": [
    "sql = \"\"\"\n",
    "DROP TABLE IF EXISTS population;\n",
    "CREATE TABLE population (\n",
    "    sa2_code INTEGER PRIMARY KEY, \n",
    "    sa2_name VARCHAR(100), \n",
    "    \"0-4_people\" INTEGER, \n",
    "    \"5-9_people\" INTEGER, \n",
    "    \"10-14_people\" INTEGER,\n",
    "    \"15-19_people\" INTEGER, \n",
    "    \"20-24_people\" INTEGER, \n",
    "    \"25-29_people\" INTEGER, \n",
    "    \"30-34_people\" INTEGER, \n",
    "    \"35-39_people\" INTEGER, \n",
    "    \"40-44_people\" INTEGER, \n",
    "    \"45-49_people\" INTEGER, \n",
    "    \"50-54_people\" INTEGER, \n",
    "    \"55-59_people\" INTEGER, \n",
    "    \"60-64_people\" INTEGER, \n",
    "    \"65-69_people\" INTEGER, \n",
    "    \"70-74_people\" INTEGER, \n",
    "    \"75-79_people\" INTEGER, \n",
    "    \"80-84_people\" INTEGER, \n",
    "    \"85-and-over_people\" INTEGER, \n",
    "    total_people INTEGER\n",
    ");\"\"\"\n",
    "\n",
    "query(conn, sql)"
   ]
  },
  {
   "cell_type": "code",
   "execution_count": null,
   "id": "30afe86f",
   "metadata": {},
   "outputs": [],
   "source": [
    "query(conn, \"select * from population\")"
   ]
  },
  {
   "cell_type": "code",
   "execution_count": null,
   "id": "0bb97a7f",
   "metadata": {},
   "outputs": [],
   "source": [
    "toilets = toilets.drop(['URL', 'FacilityType', 'AddressNote', 'Parking', 'ParkingNote', 'KeyRequired', 'MLAK24', 'MLAKAfterHours', 'PaymentRequired', 'AccessNote', 'AdultChange', 'ChangingPlaces', 'BYOSling', 'ACShower', 'ACMLAK', 'AdultChangeNote', 'BabyChange', 'BabyCareRoom', 'BabyChangeNote', 'DumpPoint', 'DPWashout', 'DPAfterHours', 'DumpPointNote', 'OpeningHours', 'OpeningHoursNote', 'Male', 'Female', 'Unisex', 'AllGender', 'Ambulant', 'Accessible', 'LHTransfer', 'RHTransfer', 'ToiletNote', 'SharpsDisposal', 'DrinkingWater', 'SanitaryDisposal', 'MensPadDisposal', 'Shower', 'ParkingAccessible'  ], axis=1)"
   ]
  },
  {
   "cell_type": "code",
   "execution_count": null,
   "id": "b7257c34",
   "metadata": {},
   "outputs": [],
   "source": [
    "#Turning toilet latitude and longitude to point data\n",
    "toilets['geom'] = gpd.points_from_xy(toilets.Longitude, toilets.Latitude)\n",
    "toilets = toilets.drop(['Latitude', 'Longitude'], axis = 1)\n",
    "toilets['geom'] = toilets['geom'].apply(lambda x: WKTElement(x.wkt, srid=4326))\n",
    "\n",
    "#Filtering out toilets in NSW\n",
    "toilets = toilets[toilets['State'] == 'NSW']\n",
    "toilets = toilets.drop(['State'], axis = 1)"
   ]
  },
  {
   "cell_type": "code",
   "execution_count": null,
   "id": "c3630fa7",
   "metadata": {},
   "outputs": [],
   "source": [
    "sql = \"\"\"\n",
    "DROP TABLE IF EXISTS toilets;\n",
    "CREATE TABLE toilets (\n",
    "    FacilityID INTEGER PRIMARY KEY, \n",
    "    Name VARCHAR(100), \n",
    "    Address1 TEXT,\n",
    "    Town TEXT,\n",
    "    geom GEOMETRY(POINT,4326)\n",
    ");\"\"\"\n",
    "\n",
    "query(conn, sql)"
   ]
  },
  {
   "cell_type": "code",
   "execution_count": null,
   "id": "bce09a1b",
   "metadata": {},
   "outputs": [],
   "source": [
    "toilets.to_sql('toilets', conn, if_exists='append', index=False, dtype={'geom': Geometry('POINT', 4326)})\n",
    "query(conn, \"select * from toilets\")"
   ]
  },
  {
   "cell_type": "code",
   "execution_count": null,
   "id": "ffb5b431",
   "metadata": {},
   "outputs": [],
   "source": [
    "polling = polling.drop(['latitude', 'longitude','FID', 'state', 'division_id', 'polling_place_type_id', 'premises_address_1', 'premises_address_2', 'premises_address_3', 'premises_state_abbreviation', 'premises_post_code'], axis = 1)"
   ]
  },
  {
   "cell_type": "code",
   "execution_count": null,
   "id": "8853c01f",
   "metadata": {},
   "outputs": [],
   "source": [
    "polling = polling[polling['the_geom'].notna()]\n",
    "polling = polling.rename(columns={\"the_geom\": \"geom\"})\n"
   ]
  },
  {
   "cell_type": "code",
   "execution_count": null,
   "id": "b27ace54",
   "metadata": {},
   "outputs": [],
   "source": [
    "sql = \"\"\"\n",
    "DROP TABLE IF EXISTS polling;\n",
    "CREATE TABLE polling (\n",
    "    polling_place_id INTEGER PRIMARY KEY, \n",
    "    division_name VARCHAR(100), \n",
    "    polling_place_name TEXT,\n",
    "    premises_name TEXT,\n",
    "    premises_suburb TEXT,\n",
    "    geom GEOMETRY(POINT,4326)\n",
    ");\"\"\"\n",
    "\n",
    "\n",
    "query(conn, sql)"
   ]
  },
  {
   "cell_type": "code",
   "execution_count": null,
   "id": "f8de8469",
   "metadata": {},
   "outputs": [],
   "source": [
    "polling.to_sql('polling', conn, if_exists='append', index=False, dtype={'geom': Geometry('POINT', 4326)})\n",
    "query(conn, \"select * from polling\")"
   ]
  },
  {
   "cell_type": "code",
   "execution_count": null,
   "id": "2df2648c",
   "metadata": {},
   "outputs": [],
   "source": [
    "stops = stops.drop(['stop_code', 'location_type', 'parent_station', 'wheelchair_boarding', 'platform_code'], axis = 1)"
   ]
  },
  {
   "cell_type": "code",
   "execution_count": null,
   "id": "8e86e194",
   "metadata": {},
   "outputs": [],
   "source": [
    "stops['geom'] = gpd.points_from_xy(stops.stop_lon, stops.stop_lat)\n",
    "stops = stops.drop(['stop_lon', 'stop_lat'], axis = 1)\n",
    "stops['geom'] = stops['geom'].apply(lambda x: WKTElement(x.wkt, srid=4326))\n"
   ]
  },
  {
   "cell_type": "code",
   "execution_count": null,
   "id": "47e1c0fc",
   "metadata": {},
   "outputs": [],
   "source": [
    "sql = \"\"\"\n",
    "DROP TABLE IF EXISTS stops;\n",
    "CREATE TABLE stops (\n",
    "    stop_id INTEGER PRIMARY KEY, \n",
    "    stop_name VARCHAR(100), \n",
    "    geom GEOMETRY(POINT,4326)\n",
    ");\"\"\"\n",
    "\n",
    "query(conn, sql)"
   ]
  },
  {
   "cell_type": "code",
   "execution_count": null,
   "id": "b101382d",
   "metadata": {},
   "outputs": [],
   "source": [
    "stops.to_sql('stops', conn, if_exists='append', index=False, dtype={'geom': Geometry('POINT', 4326)})\n",
    "query(conn, \"select * from stops\")"
   ]
  },
  {
   "cell_type": "code",
   "execution_count": null,
   "id": "66e86f8f",
   "metadata": {},
   "outputs": [],
   "source": [
    "#Dropping SA2_MAIN16 & STATE_CODE columns\n",
    "unemployment=unemployment.drop(unemployment.columns[[1]], axis=1)\n",
    "unemployment=unemployment.drop(unemployment.columns[[2]], axis=1)"
   ]
  },
  {
   "cell_type": "code",
   "execution_count": null,
   "id": "f14ee4c8",
   "metadata": {},
   "outputs": [],
   "source": [
    "#Renaming columns\n",
    "unemployment=unemployment.rename(columns={'SA2_MAIN':'sa2_code'})\n",
    "unemployment=unemployment.rename(columns={'SA2_NAME':'sa2_name'})\n",
    "unemployment=unemployment.rename(columns={'STATE_NAME':'state_name'})\n",
    "unemployment=unemployment.rename(columns={'AREA_SQKM':'area_sqkm'})\n",
    "unemployment=unemployment.rename(columns={'PER_UNEMPL':'per_unempl'})\n",
    "unemployment"
   ]
  },
  {
   "cell_type": "code",
   "execution_count": null,
   "id": "3669e6f5",
   "metadata": {},
   "outputs": [],
   "source": [
    "#Converting polygons to multipolygons\n",
    "unemployment['geometry'] = unemployment['geometry'].apply(lambda x: create_wkt_element(geom=x,srid=4326))"
   ]
  },
  {
   "cell_type": "code",
   "execution_count": null,
   "id": "0e5d451a",
   "metadata": {},
   "outputs": [],
   "source": [
    "sql = \"\"\"\n",
    "\n",
    "DROP TABLE IF EXISTS unemployment;\n",
    "CREATE TABLE unemployment (\n",
    "    sa2_code INTEGER PRIMARY KEY,\n",
    "    sa2_name TEXT,\n",
    "    state_name TEXT,\n",
    "    area_sqkm FLOAT,\n",
    "    per_unempl FLOAT,\n",
    "    geometry GEOMETRY(POLYGON,4326)\n",
    "\n",
    ");\"\"\"\n",
    "\n",
    "query(conn, sql)"
   ]
  },
  {
   "cell_type": "code",
   "execution_count": null,
   "id": "023193ce",
   "metadata": {},
   "outputs": [],
   "source": [
    "unemployment.to_sql('unemployment', conn, if_exists='append', index=False, dtype={'geometry': Geometry('MULTIPOLYGON', 4326)})\n",
    "query(conn, \"select * from unemployment\")"
   ]
  }
 ],
 "metadata": {
  "kernelspec": {
   "display_name": "Python 3 (ipykernel)",
   "language": "python",
   "name": "python3"
  },
  "language_info": {
   "codemirror_mode": {
    "name": "ipython",
    "version": 3
   },
   "file_extension": ".py",
   "mimetype": "text/x-python",
   "name": "python",
   "nbconvert_exporter": "python",
   "pygments_lexer": "ipython3",
   "version": "3.10.11"
  }
 },
 "nbformat": 4,
 "nbformat_minor": 5
}

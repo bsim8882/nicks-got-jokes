{
 "cells": [
  {
   "cell_type": "markdown",
   "id": "3e2241dd",
   "metadata": {},
   "source": [
    "# Task 1"
   ]
  },
  {
   "cell_type": "code",
   "execution_count": null,
   "id": "4648c0a4",
   "metadata": {},
   "outputs": [],
   "source": [
    "import pandas as pd\n",
    "import geopandas as gpd\n",
    "from shapely.geometry import Point, Polygon, MultiPolygon\n",
    "from geoalchemy2 import Geometry, WKTElement\n",
    "import matplotlib.pyplot as plt\n",
    "import json\n",
    "import numpy as np\n",
    "from scipy.stats import pearsonr"
   ]
  },
  {
   "cell_type": "code",
   "execution_count": null,
   "id": "c9980f7e",
   "metadata": {},
   "outputs": [],
   "source": [
    "#Importing Feature Geometry Shapefiles\n",
    "catchments_primary = gpd.read_file(\"Catchments/catchments_primary.shp\")\n",
    "catchments_secondary = gpd.read_file(\"Catchments/catchments_secondary.shp\")\n",
    "catchments_future = gpd.read_file(\"Catchments/catchments_future.shp\")\n",
    "sa2_boundaries = gpd.read_file(\"SA2_2021_AUST_SHP_GDA2020/SA2_2021_AUST_GDA2020.shp\")\n",
    "unemployment = gpd.read_file(\"Data/SA2_unemployment.shp\")"
   ]
  },
  {
   "cell_type": "code",
   "execution_count": null,
   "id": "8e269149",
   "metadata": {
    "scrolled": true
   },
   "outputs": [],
   "source": [
    "#Importing csv, txt files\n",
    "businesses=pd.read_csv(\"Businesses.csv\")\n",
    "income=pd.read_csv(\"Income.csv\")\n",
    "polling=pd.read_csv(\"PollingPlaces2019.csv\")\n",
    "population=pd.read_csv(\"Population.csv\")\n",
    "toilets = pd.read_csv('Australia Public Toilet Map.csv')\n",
    "stops=pd.read_csv(\"Stops.txt\", sep=\",\")"
   ]
  },
  {
   "cell_type": "code",
   "execution_count": null,
   "id": "36aabf78",
   "metadata": {},
   "outputs": [],
   "source": [
    "from sqlalchemy import create_engine\n",
    "import psycopg2\n",
    "import psycopg2.extras\n",
    "import json\n",
    "\n",
    "credentials = \"Credentials.json\"\n",
    "\n",
    "def pgconnect(credential_filepath, db_schema=\"public\"):\n",
    "    with open(credential_filepath) as f:\n",
    "        db_conn_dict = json.load(f)\n",
    "        host       = db_conn_dict['host']\n",
    "        db_user    = db_conn_dict['user']\n",
    "        db_pw      = db_conn_dict['password']\n",
    "        default_db = db_conn_dict['user']\n",
    "        try:\n",
    "            db = create_engine('postgresql+psycopg2://'+db_user+':'+db_pw+'@'+host+'/'+default_db, echo=False)\n",
    "            conn = db.connect()\n",
    "            print('Connected successfully.')\n",
    "        except Exception as e:\n",
    "            print(\"Unable to connect to the database.\")\n",
    "            print(e)\n",
    "            db, conn = None, None\n",
    "        return db,conn\n",
    "\n",
    "def query(conn, sqlcmd, args=None, df=True):\n",
    "    result = pd.DataFrame() if df else None\n",
    "    try:\n",
    "        if df:\n",
    "            result = pd.read_sql_query(sqlcmd, conn, params=args)\n",
    "        else:\n",
    "            result = conn.execute(sqlcmd, args).fetchall()\n",
    "            result = result[0] if len(result) == 1 else result\n",
    "    except Exception as e:\n",
    "        print(\"Error encountered: \", e, sep='\\n')\n",
    "    return result"
   ]
  },
  {
   "cell_type": "code",
   "execution_count": null,
   "id": "416abb62",
   "metadata": {},
   "outputs": [],
   "source": [
    "db, conn = pgconnect(credentials)"
   ]
  },
  {
   "cell_type": "markdown",
   "id": "5fdebb35",
   "metadata": {},
   "source": [
    "### Traffic"
   ]
  },
  {
   "cell_type": "code",
   "execution_count": null,
   "id": "c41c0f3a",
   "metadata": {},
   "outputs": [],
   "source": [
    "with open(\"live-traffic-cameras.json\") as traffic:\n",
    "    data = json.load(traffic)\n"
   ]
  },
  {
   "cell_type": "code",
   "execution_count": null,
   "id": "334a72ff",
   "metadata": {},
   "outputs": [],
   "source": [
    "traffic = pd.DataFrame(columns=[\"geo_point_2d\", \"region\", \"title\", \"view\", \"direction\", \"href\", \"photo\"])\n",
    "\n",
    "for i in range(0, len(data)):\n",
    "    currentItem = data[i]\n",
    "    traffic.loc[i] = [data[i][\"geo_point_2d\"], data[i][\"region\"], data[i][\"title\"], data[i][\"view\"], data[i][\"direction\"], data[i][\"href\"], data[i][\"photo\"]]\n"
   ]
  },
  {
   "cell_type": "code",
   "execution_count": null,
   "id": "cd5aee74",
   "metadata": {},
   "outputs": [],
   "source": [
    "traffic[['lng', 'lat']] = traffic[\"geo_point_2d\"].apply(pd.Series)\n",
    "traffic['geom'] = gpd.points_from_xy(traffic.lng, traffic.lat)\n",
    "traffic = traffic.drop(columns=['geo_point_2d', 'lng', 'lat', 'photo', 'href'])\n",
    "traffic['id'] = pd.Series(range(1, len(traffic)+1))\n",
    "traffic['geom'] = traffic['geom'].apply(lambda x: WKTElement(x.wkt, srid=4326))\n",
    "traffic"
   ]
  },
  {
   "cell_type": "code",
   "execution_count": null,
   "id": "b9da3300",
   "metadata": {},
   "outputs": [],
   "source": [
    "sql = \"\"\"\n",
    "DROP TABLE IF EXISTS traffic;\n",
    "CREATE TABLE traffic (\n",
    "    id INTEGER PRIMARY KEY,\n",
    "    region VARCHAR(100), \n",
    "    title VARCHAR(100), \n",
    "    view TEXT, \n",
    "    direction VARCHAR(3),\n",
    "    geom GEOMETRY(POINT,4326)\n",
    ");\"\"\"\n",
    "\n",
    "query(conn, sql)"
   ]
  },
  {
   "cell_type": "code",
   "execution_count": null,
   "id": "b74f12de",
   "metadata": {},
   "outputs": [],
   "source": [
    "sql = \"\"\"\n",
    "CREATE INDEX traffic_geom_idx ON traffic USING GIST(geom);\n",
    "\"\"\"\n",
    "query(conn, sql)"
   ]
  },
  {
   "cell_type": "code",
   "execution_count": null,
   "id": "d0e97dfa",
   "metadata": {},
   "outputs": [],
   "source": [
    "traffic.to_sql('traffic', conn, if_exists='append', index=False, dtype={'geom': Geometry('POINT', 4326)})\n",
    "query(conn, \"select * from traffic\")"
   ]
  },
  {
   "cell_type": "markdown",
   "id": "ea0dd3ea",
   "metadata": {},
   "source": [
    "### Catchments"
   ]
  },
  {
   "cell_type": "code",
   "execution_count": null,
   "id": "66e311c1",
   "metadata": {},
   "outputs": [],
   "source": [
    "catchments_primary=catchments_primary.drop(catchments_primary.loc[:,'ADD_DATE':'PRIORITY'].columns, axis=1)\n",
    "catchments_primary=catchments_primary.rename(columns={'USE_ID':'use_id', 'CATCH_TYPE':'catch_type', 'USE_DESC':'use_desc'})"
   ]
  },
  {
   "cell_type": "code",
   "execution_count": null,
   "id": "c570637e",
   "metadata": {},
   "outputs": [],
   "source": [
    "def create_wkt_element(geom, srid):\n",
    "    if geom.geom_type == 'Polygon':\n",
    "        geom = MultiPolygon([geom])\n",
    "    return WKTElement(geom.wkt, srid)\n",
    "\n",
    "catchments_primary['geom'] = catchments_primary['geometry'].apply(lambda x: create_wkt_element(geom=x,srid=4326))\n",
    "catchments_primary=catchments_primary.drop(columns=\"geometry\")"
   ]
  },
  {
   "cell_type": "code",
   "execution_count": null,
   "id": "cbedb911",
   "metadata": {},
   "outputs": [],
   "source": [
    "sql = \"\"\"\n",
    "DROP TABLE IF EXISTS catchments_primary;\n",
    "CREATE TABLE catchments_primary (\n",
    "    USE_ID INTEGER PRIMARY KEY,\n",
    "    CATCH_TYPE VARCHAR(20),\n",
    "    USE_DESC VARCHAR(50), \n",
    "    geom GEOMETRY(MULTIPOLYGON,4326)\n",
    "\n",
    ");\"\"\"\n",
    "\n",
    "query(conn, sql)"
   ]
  },
  {
   "cell_type": "code",
   "execution_count": null,
   "id": "5b30f0a3",
   "metadata": {},
   "outputs": [],
   "source": [
    "sql = \"\"\"\n",
    "CREATE INDEX catchments_primary_geom_idx ON catchments_primary USING GIST(geom);\n",
    "\"\"\"\n",
    "query(conn, sql)"
   ]
  },
  {
   "cell_type": "code",
   "execution_count": null,
   "id": "7d7c452f",
   "metadata": {},
   "outputs": [],
   "source": [
    "catchments_primary.to_sql('catchments_primary', conn, if_exists='append', index=False, dtype={'geom': Geometry('MULTIPOLYGON', srid=4326)})\n",
    "query(conn, \"select * from catchments_primary\")"
   ]
  },
  {
   "cell_type": "code",
   "execution_count": null,
   "id": "772bdf66",
   "metadata": {},
   "outputs": [],
   "source": [
    "catchments_secondary=catchments_secondary.drop(catchments_secondary.loc[:,'ADD_DATE':'PRIORITY'].columns, axis=1)\n",
    "catchments_secondary=catchments_secondary.rename(columns={'USE_ID':'use_id', 'CATCH_TYPE':'catch_type', 'USE_DESC':'use_desc'})"
   ]
  },
  {
   "cell_type": "code",
   "execution_count": null,
   "id": "18deafe1",
   "metadata": {},
   "outputs": [],
   "source": [
    "catchments_secondary['geom'] = catchments_secondary['geometry'].apply(lambda x: create_wkt_element(geom=x,srid=4326))\n",
    "catchments_secondary=catchments_secondary.drop(columns=\"geometry\")"
   ]
  },
  {
   "cell_type": "code",
   "execution_count": null,
   "id": "05847c7d",
   "metadata": {},
   "outputs": [],
   "source": [
    "sql = \"\"\"\n",
    "DROP TABLE IF EXISTS catchments_secondary;\n",
    "CREATE TABLE catchments_secondary (\n",
    "    USE_ID INTEGER PRIMARY KEY,\n",
    "    CATCH_TYPE VARCHAR(20),\n",
    "    USE_DESC VARCHAR(50),\n",
    "    geom GEOMETRY(MULTIPOLYGON,4326)\n",
    ");\"\"\"\n",
    "\n",
    "\n",
    "query(conn, sql)"
   ]
  },
  {
   "cell_type": "code",
   "execution_count": null,
   "id": "fe41da71",
   "metadata": {},
   "outputs": [],
   "source": [
    "sql = \"\"\"\n",
    "CREATE INDEX catchments_secondary_geom_idx ON catchments_secondary USING GIST(geom);\n",
    "\"\"\"\n",
    "query(conn, sql)"
   ]
  },
  {
   "cell_type": "code",
   "execution_count": null,
   "id": "1bef3910",
   "metadata": {},
   "outputs": [],
   "source": [
    "catchments_secondary.to_sql('catchments_secondary', conn, if_exists='append', index=False, dtype={'geom': Geometry('MULTIPOLYGON', srid=4326)})\n",
    "query(conn, \"select * from catchments_secondary\")"
   ]
  },
  {
   "cell_type": "code",
   "execution_count": null,
   "id": "7e328bac",
   "metadata": {},
   "outputs": [],
   "source": [
    "catchments_future=catchments_future.drop(catchments_future.loc[:,'ADD_DATE':'YEAR12'].columns, axis=1)\n",
    "catchments_future=catchments_future.rename(columns={'USE_ID':'use_id', 'CATCH_TYPE':'catch_type', 'USE_DESC':'use_desc'})"
   ]
  },
  {
   "cell_type": "code",
   "execution_count": null,
   "id": "2939e76c",
   "metadata": {},
   "outputs": [],
   "source": [
    "catchments_future['geom'] = catchments_future['geometry'].apply(lambda x: create_wkt_element(geom=x,srid=4326))\n",
    "catchments_future=catchments_future.drop(columns=\"geometry\")"
   ]
  },
  {
   "cell_type": "code",
   "execution_count": null,
   "id": "12527b64",
   "metadata": {},
   "outputs": [],
   "source": [
    "sql = \"\"\"\n",
    "DROP TABLE IF EXISTS catchments_future;\n",
    "CREATE TABLE catchments_future (\n",
    "    USE_ID INTEGER PRIMARY KEY,\n",
    "    CATCH_TYPE VARCHAR(20),\n",
    "    USE_DESC VARCHAR(50),\n",
    "    geom GEOMETRY(MULTIPOLYGON,4326)\n",
    ");\"\"\"\n",
    "\n",
    "query(conn, sql)"
   ]
  },
  {
   "cell_type": "code",
   "execution_count": null,
   "id": "bc293efa",
   "metadata": {},
   "outputs": [],
   "source": [
    "sql = \"\"\"\n",
    "CREATE INDEX catchments_future_geom_idx ON catchments_future USING GIST(geom);\n",
    "\"\"\"\n",
    "query(conn, sql)"
   ]
  },
  {
   "cell_type": "code",
   "execution_count": null,
   "id": "959e153d",
   "metadata": {},
   "outputs": [],
   "source": [
    "catchments_future.to_sql('catchments_future', conn, if_exists='append', index=False, dtype={'geom': Geometry('MULTIPOLYGON', srid=4326)})\n",
    "query(conn, \"select * from catchments_future\")"
   ]
  },
  {
   "cell_type": "markdown",
   "id": "dbab2cc0",
   "metadata": {},
   "source": [
    "### SA2 Boundaries"
   ]
  },
  {
   "cell_type": "code",
   "execution_count": null,
   "id": "d255b9f6",
   "metadata": {},
   "outputs": [],
   "source": [
    "sa2_boundaries = sa2_boundaries.drop(['CHG_FLAG21', 'CHG_LBL21', 'SA3_CODE21', 'SA3_NAME21', 'SA4_CODE21', 'SA4_NAME21', 'GCC_CODE21', 'STE_CODE21', 'STE_NAME21', 'AUS_CODE21', 'AUS_NAME21', 'LOCI_URI21'], axis = 1)\n",
    "sa2_boundaries = sa2_boundaries[sa2_boundaries['GCC_NAME21'] == 'Greater Sydney']\n",
    "sa2_boundaries['SA2_CODE21']=sa2_boundaries['SA2_CODE21'].astype(np.int64)\n",
    "sa2_boundaries = sa2_boundaries.drop(['GCC_NAME21'], axis = 1)"
   ]
  },
  {
   "cell_type": "code",
   "execution_count": null,
   "id": "781ad945",
   "metadata": {},
   "outputs": [],
   "source": [
    "sa2_boundaries['geom'] = sa2_boundaries['geometry'].apply(lambda x: create_wkt_element(geom=x,srid=4326))"
   ]
  },
  {
   "cell_type": "code",
   "execution_count": null,
   "id": "e9caef2b",
   "metadata": {},
   "outputs": [],
   "source": [
    "sa2_boundaries = sa2_boundaries.drop(['geometry'], axis = 1)\n",
    "sa2_boundaries = sa2_boundaries.rename(columns={'SA2_CODE21': 'sa2_code21', 'SA2_NAME21': 'sa2_name21', 'AREASQKM21': 'areasqkm21'})"
   ]
  },
  {
   "cell_type": "code",
   "execution_count": null,
   "id": "6e5167a7",
   "metadata": {},
   "outputs": [],
   "source": [
    "sql = \"\"\"\n",
    "DROP TABLE IF EXISTS sa2_boundaries;\n",
    "CREATE TABLE sa2_boundaries (\n",
    "    sa2_code21 INTEGER PRIMARY KEY, \n",
    "    sa2_name21 VARCHAR(100), \n",
    "    areasqkm21 FLOAT,\n",
    "    geom GEOMETRY(MULTIPOLYGON,4326)\n",
    ");\"\"\"\n",
    "\n",
    "query(conn, sql)"
   ]
  },
  {
   "cell_type": "code",
   "execution_count": null,
   "id": "e9cbbf30",
   "metadata": {},
   "outputs": [],
   "source": [
    "sql = \"\"\"\n",
    "CREATE INDEX sa2_boundaries_geom_idx ON sa2_boundaries USING GIST(geom);\n",
    "\"\"\"\n",
    "query(conn, sql)"
   ]
  },
  {
   "cell_type": "code",
   "execution_count": null,
   "id": "e9b24227",
   "metadata": {},
   "outputs": [],
   "source": [
    "sa2_boundaries.to_sql('sa2_boundaries', conn, if_exists='append', index=False, dtype={'geom': Geometry('MULTIPOLYGON', srid=4326)})\n",
    "query(conn, \"select * from sa2_boundaries\")"
   ]
  },
  {
   "cell_type": "markdown",
   "id": "aa4b85f0",
   "metadata": {},
   "source": [
    "### Income"
   ]
  },
  {
   "cell_type": "code",
   "execution_count": null,
   "id": "81b32976",
   "metadata": {},
   "outputs": [],
   "source": [
    "income=income.replace({'np': None})\n",
    "income=income.dropna() #rows containing np did not contain integer values, hence removal\n",
    "income=income[income['sa2_code'].isin(sa2_boundaries['sa2_code21'])]"
   ]
  },
  {
   "cell_type": "code",
   "execution_count": null,
   "id": "653fbaf6",
   "metadata": {},
   "outputs": [],
   "source": [
    "sql = \"\"\"\n",
    "DROP TABLE IF EXISTS income;\n",
    "CREATE TABLE income(\n",
    "    sa2_code INTEGER PRIMARY KEY,\n",
    "    sa2_name VARCHAR(100), \n",
    "    earners INTEGER, \n",
    "    median_age INTEGER,\n",
    "    median_income INTEGER,\n",
    "    mean_income INTEGER,\n",
    "    \n",
    "    CONSTRAINT fkey_sa2inc FOREIGN KEY(sa2_code)\n",
    "        REFERENCES sa2_boundaries(sa2_code21)\n",
    ");\"\"\"\n",
    "\n",
    "\n",
    "query(conn, sql)"
   ]
  },
  {
   "cell_type": "code",
   "execution_count": null,
   "id": "edaee023",
   "metadata": {},
   "outputs": [],
   "source": [
    "income.to_sql('income', conn, if_exists='append', index=False)\n",
    "query(conn, \"select * from income\")"
   ]
  },
  {
   "cell_type": "markdown",
   "id": "b5093a9a",
   "metadata": {},
   "source": [
    "### Businesses"
   ]
  },
  {
   "cell_type": "code",
   "execution_count": null,
   "id": "54c69065",
   "metadata": {},
   "outputs": [],
   "source": [
    "businesses=businesses.drop(businesses.columns[[0]], axis=1) #dropped industry code to remove repeated information\n",
    "#created a primary key from industry name and sa2 code columns, since no single column was a unique identifier for records\n",
    "businesses=businesses[businesses['sa2_code'].isin(sa2_boundaries['sa2_code21'])]"
   ]
  },
  {
   "cell_type": "code",
   "execution_count": null,
   "id": "3f8496b4",
   "metadata": {},
   "outputs": [],
   "source": [
    "sql = \"\"\"\n",
    "DROP TABLE IF EXISTS businesses;\n",
    "CREATE TABLE businesses(\n",
    "    industry_name VARCHAR(100),\n",
    "    sa2_code INTEGER, \n",
    "    sa2_name VARCHAR(100),\n",
    "    \"0_to_50k_businesses\" INTEGER,\n",
    "    \"50k_to_200k_businesses\" INTEGER,\n",
    "    \"200k_to_2m_businesses\" INTEGER,\n",
    "    \"2m_to_5m_businesses\" INTEGER,\n",
    "    \"5m_to_10m_businesses\" INTEGER,\n",
    "    \"10m_or_more_businesses\" INTEGER,\n",
    "    total_businesses INTEGER,\n",
    "    PRIMARY KEY (industry_name, sa2_code),\n",
    "    \n",
    "    CONSTRAINT fkey_sa2bus FOREIGN KEY(sa2_code)\n",
    "        REFERENCES sa2_boundaries(sa2_code21)\n",
    ");\"\"\"\n",
    "\n",
    "query(conn, sql)"
   ]
  },
  {
   "cell_type": "code",
   "execution_count": null,
   "id": "addc0b89",
   "metadata": {},
   "outputs": [],
   "source": [
    "businesses.to_sql('businesses', conn, if_exists='append', index=False)\n",
    "query(conn, \"select * from businesses\")"
   ]
  },
  {
   "cell_type": "markdown",
   "id": "cc71ba95",
   "metadata": {},
   "source": [
    "### Population"
   ]
  },
  {
   "cell_type": "code",
   "execution_count": null,
   "id": "cd83b47e",
   "metadata": {},
   "outputs": [],
   "source": [
    "sql = \"\"\"\n",
    "DROP TABLE IF EXISTS population;\n",
    "CREATE TABLE population (\n",
    "    sa2_code INTEGER PRIMARY KEY, \n",
    "    sa2_name VARCHAR(100), \n",
    "    \"0-4_people\" INTEGER, \n",
    "    \"5-9_people\" INTEGER, \n",
    "    \"10-14_people\" INTEGER,\n",
    "    \"15-19_people\" INTEGER, \n",
    "    \"20-24_people\" INTEGER, \n",
    "    \"25-29_people\" INTEGER, \n",
    "    \"30-34_people\" INTEGER, \n",
    "    \"35-39_people\" INTEGER, \n",
    "    \"40-44_people\" INTEGER, \n",
    "    \"45-49_people\" INTEGER, \n",
    "    \"50-54_people\" INTEGER, \n",
    "    \"55-59_people\" INTEGER, \n",
    "    \"60-64_people\" INTEGER, \n",
    "    \"65-69_people\" INTEGER, \n",
    "    \"70-74_people\" INTEGER, \n",
    "    \"75-79_people\" INTEGER, \n",
    "    \"80-84_people\" INTEGER, \n",
    "    \"85-and-over_people\" INTEGER, \n",
    "    total_people INTEGER,\n",
    "    \n",
    "    CONSTRAINT fkey_sa2pop FOREIGN KEY(sa2_code)\n",
    "        REFERENCES sa2_boundaries(sa2_code21)\n",
    ");\"\"\"\n",
    "\n",
    "query(conn, sql)"
   ]
  },
  {
   "cell_type": "code",
   "execution_count": null,
   "id": "30afe86f",
   "metadata": {},
   "outputs": [],
   "source": [
    "population.to_sql('population', conn, if_exists='append', index=False)\n",
    "query(conn, \"select * from population\")"
   ]
  },
  {
   "cell_type": "markdown",
   "id": "3b63e837",
   "metadata": {},
   "source": [
    "### Toilets..."
   ]
  },
  {
   "cell_type": "code",
   "execution_count": null,
   "id": "0bb97a7f",
   "metadata": {},
   "outputs": [],
   "source": [
    "toilets = toilets.drop(['URL', 'FacilityType', 'AddressNote', 'Parking', 'ParkingNote', 'KeyRequired', 'MLAK24', 'MLAKAfterHours', 'PaymentRequired', 'AccessNote', 'AdultChange', 'ChangingPlaces', 'BYOSling', 'ACShower', 'ACMLAK', 'AdultChangeNote', 'BabyChange', 'BabyCareRoom', 'BabyChangeNote', 'DumpPoint', 'DPWashout', 'DPAfterHours', 'DumpPointNote', 'OpeningHours', 'OpeningHoursNote', 'Male', 'Female', 'Unisex', 'AllGender', 'Ambulant', 'Accessible', 'LHTransfer', 'RHTransfer', 'ToiletNote', 'SharpsDisposal', 'DrinkingWater', 'SanitaryDisposal', 'MensPadDisposal', 'Shower', 'ParkingAccessible'  ], axis=1)"
   ]
  },
  {
   "cell_type": "code",
   "execution_count": null,
   "id": "b7257c34",
   "metadata": {},
   "outputs": [],
   "source": [
    "#Turning toilet latitude and longitude to point data\n",
    "toilets['geom'] = gpd.points_from_xy(toilets.Longitude, toilets.Latitude)\n",
    "toilets = toilets.drop(['Latitude', 'Longitude'], axis = 1)\n",
    "toilets['geom'] = toilets['geom'].apply(lambda x: WKTElement(x.wkt, srid=4326))\n",
    "\n",
    "#Filtering out toilets in NSW\n",
    "toilets = toilets[toilets['State'] == 'NSW']\n",
    "toilets = toilets.drop(['State'], axis = 1)"
   ]
  },
  {
   "cell_type": "code",
   "execution_count": null,
   "id": "8a1728b9",
   "metadata": {},
   "outputs": [],
   "source": [
    "toilets = toilets.rename(columns={'FacilityID': 'facilityid','Name': 'name','Address1': 'address1','Town': 'town'})"
   ]
  },
  {
   "cell_type": "code",
   "execution_count": null,
   "id": "2350f222",
   "metadata": {},
   "outputs": [],
   "source": [
    "toilets"
   ]
  },
  {
   "cell_type": "code",
   "execution_count": null,
   "id": "c3630fa7",
   "metadata": {},
   "outputs": [],
   "source": [
    "sql = \"\"\"\n",
    "DROP TABLE IF EXISTS toilets;\n",
    "CREATE TABLE toilets (\n",
    "    facilityid INTEGER PRIMARY KEY, \n",
    "    name VARCHAR(100), \n",
    "    address1 VARCHAR(100),\n",
    "    town VARCHAR(50),\n",
    "    geom GEOMETRY(POINT,4326)\n",
    ");\"\"\"\n",
    "\n",
    "query(conn, sql)"
   ]
  },
  {
   "cell_type": "code",
   "execution_count": null,
   "id": "7e90c4be",
   "metadata": {},
   "outputs": [],
   "source": [
    "sql = \"\"\"\n",
    "CREATE INDEX toilets_geom_idx ON toilets USING GIST(geom);\n",
    "\"\"\"\n",
    "query(conn, sql)"
   ]
  },
  {
   "cell_type": "code",
   "execution_count": null,
   "id": "bce09a1b",
   "metadata": {},
   "outputs": [],
   "source": [
    "toilets.to_sql('toilets', conn, if_exists='append', index=False, dtype={'geom': Geometry('POINT', 4326)})\n",
    "query(conn, \"select * from toilets\")"
   ]
  },
  {
   "cell_type": "markdown",
   "id": "0ae5cd26",
   "metadata": {},
   "source": [
    "### Polling"
   ]
  },
  {
   "cell_type": "code",
   "execution_count": null,
   "id": "ffb5b431",
   "metadata": {},
   "outputs": [],
   "source": [
    "polling = polling.drop(['the_geom','FID', 'state', 'division_id', 'polling_place_type_id', 'premises_address_1', 'premises_address_2', 'premises_address_3', 'premises_state_abbreviation', 'premises_post_code'], axis = 1)"
   ]
  },
  {
   "cell_type": "code",
   "execution_count": null,
   "id": "4c6ee524",
   "metadata": {},
   "outputs": [],
   "source": [
    "polling['geom'] = gpd.points_from_xy(polling.longitude, polling.latitude)\n",
    "polling = polling.drop(['longitude', 'latitude'], axis = 1)\n",
    "polling['geom'] = polling['geom'].apply(lambda x: WKTElement(x.wkt, srid=4326))"
   ]
  },
  {
   "cell_type": "code",
   "execution_count": 14,
   "id": "b27ace54",
   "metadata": {
    "collapsed": true
   },
   "outputs": [
    {
     "ename": "NameError",
     "evalue": "name 'query' is not defined",
     "output_type": "error",
     "traceback": [
      "\u001b[1;31m---------------------------------------------------------------------------\u001b[0m",
      "\u001b[1;31mNameError\u001b[0m                                 Traceback (most recent call last)",
      "\u001b[1;32m~\\AppData\\Local\\Temp\\ipykernel_21944\\1749846536.py\u001b[0m in \u001b[0;36m<module>\u001b[1;34m\u001b[0m\n\u001b[0;32m     11\u001b[0m \u001b[1;33m\u001b[0m\u001b[0m\n\u001b[0;32m     12\u001b[0m \u001b[1;33m\u001b[0m\u001b[0m\n\u001b[1;32m---> 13\u001b[1;33m \u001b[0mquery\u001b[0m\u001b[1;33m(\u001b[0m\u001b[0mconn\u001b[0m\u001b[1;33m,\u001b[0m \u001b[0msql\u001b[0m\u001b[1;33m)\u001b[0m\u001b[1;33m\u001b[0m\u001b[1;33m\u001b[0m\u001b[0m\n\u001b[0m",
      "\u001b[1;31mNameError\u001b[0m: name 'query' is not defined"
     ]
    }
   ],
   "source": [
    "sql = \"\"\"\n",
    "DROP TABLE IF EXISTS polling;\n",
    "CREATE TABLE polling (\n",
    "    polling_place_id INTEGER PRIMARY KEY, \n",
    "    division_name VARCHAR(20), \n",
    "    polling_place_name VARCHAR(100),\n",
    "    premises_name VARCHAR(100),\n",
    "    premises_suburb VARCHAR(100),\n",
    "    geom GEOMETRY(POINT,4326)\n",
    ");\"\"\"\n",
    "\n",
    "\n",
    "query(conn, sql)"
   ]
  },
  {
   "cell_type": "code",
   "execution_count": null,
   "id": "b0630184",
   "metadata": {},
   "outputs": [],
   "source": [
    "sql = \"\"\"\n",
    "CREATE INDEX polling_geom_idx ON polling USING GIST(geom);\n",
    "\"\"\"\n",
    "query(conn, sql)"
   ]
  },
  {
   "cell_type": "code",
   "execution_count": null,
   "id": "f8de8469",
   "metadata": {},
   "outputs": [],
   "source": [
    "polling.to_sql('polling', conn, if_exists='append', index=False, dtype={'geom': Geometry('POINT', 4326)})\n",
    "query(conn, \"select * from polling\")"
   ]
  },
  {
   "cell_type": "markdown",
   "id": "aa2c59a7",
   "metadata": {},
   "source": [
    "### Stops"
   ]
  },
  {
   "cell_type": "code",
   "execution_count": null,
   "id": "2df2648c",
   "metadata": {},
   "outputs": [],
   "source": [
    "stops = stops.drop(['stop_code', 'location_type', 'parent_station', 'wheelchair_boarding', 'platform_code'], axis = 1)"
   ]
  },
  {
   "cell_type": "code",
   "execution_count": null,
   "id": "8e86e194",
   "metadata": {},
   "outputs": [],
   "source": [
    "stops['geom'] = gpd.points_from_xy(stops.stop_lon, stops.stop_lat)\n",
    "stops = stops.drop(['stop_lon', 'stop_lat'], axis = 1)\n",
    "stops['geom'] = stops['geom'].apply(lambda x: WKTElement(x.wkt, srid=4326))\n"
   ]
  },
  {
   "cell_type": "code",
   "execution_count": null,
   "id": "47e1c0fc",
   "metadata": {},
   "outputs": [],
   "source": [
    "sql = \"\"\"\n",
    "DROP TABLE IF EXISTS stops;\n",
    "CREATE TABLE stops (\n",
    "    stop_id TEXT PRIMARY KEY, \n",
    "    stop_name VARCHAR(100), \n",
    "    geom GEOMETRY(POINT,4326)\n",
    ");\"\"\"\n",
    "\n",
    "query(conn, sql)"
   ]
  },
  {
   "cell_type": "code",
   "execution_count": null,
   "id": "19f94b5e",
   "metadata": {},
   "outputs": [],
   "source": [
    "sql = \"\"\"\n",
    "CREATE INDEX stops_geom_idx ON stops USING GIST(geom);\n",
    "\"\"\"\n",
    "query(conn, sql)"
   ]
  },
  {
   "cell_type": "code",
   "execution_count": null,
   "id": "b101382d",
   "metadata": {},
   "outputs": [],
   "source": [
    "stops.to_sql('stops', conn, if_exists='append', index=False, dtype={'geom': Geometry('POINT', 4326)})\n",
    "query(conn, \"select * from stops\")"
   ]
  },
  {
   "cell_type": "markdown",
   "id": "d9772bed",
   "metadata": {},
   "source": [
    "### Unemployment"
   ]
  },
  {
   "cell_type": "code",
   "execution_count": null,
   "id": "66e86f8f",
   "metadata": {},
   "outputs": [],
   "source": [
    "#Dropping SA2_MAIN16 & STATE_CODE columns\n",
    "unemployment=unemployment.drop(['SA2_MAIN16', 'STATE_CODE'], axis=1)"
   ]
  },
  {
   "cell_type": "code",
   "execution_count": null,
   "id": "f14ee4c8",
   "metadata": {},
   "outputs": [],
   "source": [
    "#Renaming columns\n",
    "unemployment=unemployment.rename(columns={'SA2_MAIN':'sa2_code', 'SA2_NAME':'sa2_name', 'STATE_NAME':'state_name', 'AREA_SQKM':'area_sqkm', 'PER_UNEMPL':'per_unempl'})\n",
    "#Converting SA2 code data type to integer\n",
    "unemployment['sa2_code']=unemployment['sa2_code'].astype(np.int64)\n",
    "#Retaining only the rows for which SA2 code exists in the boundaries dataset\n",
    "unemployment=unemployment[unemployment['sa2_code'].isin(sa2_boundaries['sa2_code21'])]\n",
    "unemployment"
   ]
  },
  {
   "cell_type": "code",
   "execution_count": null,
   "id": "3669e6f5",
   "metadata": {},
   "outputs": [],
   "source": [
    "#Converting polygons to multipolygons\n",
    "unemployment['geom'] = unemployment['geometry'].apply(lambda x: create_wkt_element(geom=x,srid=4326))\n",
    "unemployment = unemployment.drop(['geometry'], axis = 1)"
   ]
  },
  {
   "cell_type": "code",
   "execution_count": null,
   "id": "0e5d451a",
   "metadata": {},
   "outputs": [],
   "source": [
    "sql = \"\"\"\n",
    "\n",
    "DROP TABLE IF EXISTS unemployment;\n",
    "CREATE TABLE unemployment (\n",
    "    sa2_code INTEGER PRIMARY KEY,\n",
    "    sa2_name VARCHAR(100),\n",
    "    state_name VARCHAR(100),\n",
    "    area_sqkm FLOAT,\n",
    "    per_unempl FLOAT,\n",
    "    geom GEOMETRY(MULTIPOLYGON,4326),\n",
    "    \n",
    "    CONSTRAINT fkey_sa2une FOREIGN KEY(sa2_code)\n",
    "        REFERENCES sa2_boundaries(sa2_code21)\n",
    ");\"\"\"\n",
    "\n",
    "query(conn, sql)"
   ]
  },
  {
   "cell_type": "code",
   "execution_count": null,
   "id": "2d9d97e2",
   "metadata": {},
   "outputs": [],
   "source": [
    "sql = \"\"\"\n",
    "CREATE INDEX unemployment_geom_idx ON unemployment USING GIST(geom);\n",
    "\"\"\"\n",
    "query(conn, sql)"
   ]
  },
  {
   "cell_type": "code",
   "execution_count": null,
   "id": "023193ce",
   "metadata": {},
   "outputs": [],
   "source": [
    "unemployment.to_sql('unemployment', conn, if_exists='append', index=False, dtype={'geom': Geometry('MULTIPOLYGON', srid=4326)})\n",
    "query(conn, \"select * from unemployment\")"
   ]
  },
  {
   "cell_type": "markdown",
   "id": "e6366138",
   "metadata": {},
   "source": [
    "# Tasks 2 & 3"
   ]
  },
  {
   "cell_type": "markdown",
   "id": "b9fba1ce",
   "metadata": {},
   "source": [
    "### SQL Results Calculation"
   ]
  },
  {
   "cell_type": "code",
   "execution_count": null,
   "id": "d515e1f3",
   "metadata": {},
   "outputs": [],
   "source": [
    "unextended_data = pd.read_sql_query(\"\"\"\n",
    "\n",
    "WITH filtered_stops AS (\n",
    "\tSELECT sa2_boundaries.sa2_code21 AS sa2_code, COUNT(*) AS stops_total FROM sa2_boundaries \n",
    "\tJOIN stops\n",
    "\tON ST_Contains(sa2_boundaries.geom, stops.geom)\n",
    "\tGROUP BY sa2_code21\n",
    "),\n",
    "\n",
    "filtered_businesses AS (\n",
    "\tSELECT a.sa2_code, \n",
    "\t\ta.sa2_name, \n",
    "\t\ta.total_businesses AS retail_total_businesses, \n",
    "\t\tb.total_businesses as health_total_businesses, total_people, \n",
    "\t\t(cast(b.total_businesses as float) / total_people) * 1000 as health_businesses_per_1000, \n",
    "\t\t(cast(a.total_businesses as float) / total_people) * 1000 as retail_businesses_per_1000 \n",
    "\tFROM businesses a, businesses b, population\n",
    "\tWHERE a.sa2_code = b.sa2_code and b.sa2_code = population.sa2_code\n",
    "\tAND a.industry_name = 'Health Care and Social Assistance' AND b.industry_name = 'Retail Trade'\n",
    "\tand total_people >= 100\n",
    "), \n",
    "\n",
    "filtered_pol AS (\n",
    "\tSELECT sa2_code21, count(*) AS polling_total FROM sa2_boundaries \n",
    "\tJOIN polling\n",
    "\tON ST_Contains(sa2_boundaries.geom, polling.geom)\n",
    "\tGROUP BY sa2_code21\n",
    "), \n",
    "\t\n",
    "filtered_primary AS ( \n",
    "\tselect sa2_code21, \n",
    "\t\tCOUNT(catchments_primary.use_id) AS primary_catchments\n",
    "\tFROM sa2_boundaries \n",
    "\tjoin catchments_primary\n",
    "\ton ST_intersects(sa2_boundaries.geom, catchments_primary.geom)\n",
    "\tgroup by sa2_code21\n",
    "), \n",
    "\n",
    "primary_reduced_population as (\n",
    "select sa2_code,\n",
    "\t(cast(primary_catchments as float)/(\"0-4_people\" + \"5-9_people\" + \"10-14_people\" + \"15-19_people\") ) * 1000 as primary_per_1000\n",
    "\tfrom filtered_primary\n",
    "\tjoin population \n",
    "\ton filtered_primary.sa2_code21 = population.sa2_code\n",
    "\twhere total_people >= 100\t\n",
    "),\n",
    "\n",
    "filtered_secondary AS (\n",
    "\tSELECT sa2_code21, COUNT(*) AS secondary_catchments FROM sa2_boundaries \n",
    "\tJOIN catchments_secondary\n",
    "\tON ST_Intersects(sa2_boundaries.geom, catchments_secondary.geom)\n",
    "\tGROUP BY sa2_code21\n",
    "), \n",
    "\n",
    "secondary_reduced_population as (\n",
    "select sa2_code,\n",
    "\t(cast(secondary_catchments as float)/(\"0-4_people\" + \"5-9_people\" + \"10-14_people\" + \"15-19_people\") ) * 1000 as secondary_per_1000\n",
    "\tfrom filtered_secondary\n",
    "\tjoin population \n",
    "\ton filtered_secondary.sa2_code21 = population.sa2_code\n",
    "\twhere total_people >= 100\t\n",
    "),\n",
    "\n",
    "filtered_future AS (\n",
    "\tSELECT sa2_code21, COUNT(*) AS future_catchments FROM sa2_boundaries \n",
    "\tJOIN catchments_future\n",
    "\tON ST_intersects(sa2_boundaries.geom, catchments_future.geom)\n",
    "\tGROUP BY sa2_code21\n",
    "),\n",
    "\n",
    "future_reduced_population as (\n",
    "select sa2_code,\n",
    "\t(cast(future_catchments as float)/(\"0-4_people\" + \"5-9_people\" + \"10-14_people\" + \"15-19_people\") ) * 1000 as future_per_1000\n",
    "\tfrom filtered_future\n",
    "\tjoin population \n",
    "\ton filtered_future.sa2_code21 = population.sa2_code\n",
    "\twhere total_people >= 100\t\n",
    "),\n",
    "\n",
    "filtered_toilets AS (\n",
    "\tSELECT sa2_code21, COUNT(*) AS toilet_total FROM sa2_boundaries \n",
    "\tJOIN toilets\n",
    "\tON ST_contains(sa2_boundaries.geom, toilets.geom)\n",
    "\tGROUP BY sa2_code21\n",
    "),\n",
    "\n",
    "filtered_unemployment AS (\n",
    "\tSELECT population.sa2_code, \n",
    "\tpopulation.sa2_name, \n",
    "\t\"per_unempl\", \n",
    "\t(100 - per_unempl) as employment_percentage,\n",
    "\t(total_people - \"0-4_people\" - \"5-9_people\" - \"10-14_people\") AS adult_population, \n",
    "\tROUND(((total_people - \"0-4_people\" - \"5-9_people\" - \"10-14_people\") - ((per_unempl / 100) * (total_people - \"0-4_people\" - \"5-9_people\" - \"10-14_people\")))) AS total_employed \n",
    "\tFROM  population\n",
    "\tjoin unemployment\n",
    "\tON population.sa2_code = unemployment.sa2_code\n",
    "\twhere total_people >= 100\n",
    "),\n",
    "\n",
    "filtered_traffic as (\n",
    "\tSELECT sa2_code21, sa2_name21, COUNT(*) AS traffic_camera_count FROM sa2_boundaries \n",
    "\tJOIN traffic\n",
    "\tON ST_intersects(sa2_boundaries.geom, traffic.geom)\n",
    "\tGROUP BY sa2_code21, sa2_name21\n",
    "),\n",
    "\n",
    "\n",
    "zscore_stops AS (\n",
    "SELECT sa2_code, \n",
    "\tstops_total,\n",
    "\t(stops_total - (select avg(stops_total) from filtered_stops)) / (select stddev(stops_total) from filtered_stops) as z_score_stops\n",
    "FROM filtered_stops\n",
    "), \n",
    "\n",
    "zscore_businesses AS (\n",
    "SELECT sa2_code, \n",
    "\tretail_total_businesses, \n",
    "\t(retail_businesses_per_1000 - (select avg(retail_businesses_per_1000) from filtered_businesses)) / (select stddev(retail_businesses_per_1000) from filtered_businesses) as z_score_retail, \n",
    "\thealth_total_businesses,\n",
    "\t(health_businesses_per_1000 - (select avg(health_businesses_per_1000) from filtered_businesses)) / (select stddev(health_businesses_per_1000) from filtered_businesses) as z_score_health \n",
    "FROM filtered_businesses\n",
    "),\n",
    "\n",
    "zscore_pol AS (\n",
    "SELECT sa2_code21, \n",
    "\tpolling_total,\n",
    "\t(polling_total - (select avg(polling_total) from filtered_pol)) / (select stddev(polling_total) from filtered_pol) as z_score_pol\n",
    "FROM filtered_pol\n",
    "), \n",
    "\n",
    "zscore_primary AS (\n",
    "SELECT sa2_code, \n",
    "\tprimary_per_1000,\n",
    "\t(primary_per_1000 - (select avg(primary_per_1000) from primary_reduced_population)) / (select stddev(primary_per_1000) from primary_reduced_population) as z_score_primary\n",
    "FROM primary_reduced_population\n",
    "),\n",
    "\n",
    "zscore_secondary AS (\n",
    "SELECT sa2_code, \n",
    "\tsecondary_per_1000,\n",
    "\t(secondary_per_1000 - (select avg(secondary_per_1000) from secondary_reduced_population)) / (select stddev(secondary_per_1000) from secondary_reduced_population) as z_score_secondary\n",
    "FROM secondary_reduced_population\n",
    "),\n",
    "\n",
    "zscore_future AS (\n",
    "SELECT sa2_code, \n",
    "\tfuture_per_1000,\n",
    "\t(future_per_1000 - (select avg(future_per_1000) from future_reduced_population)) / (select stddev(future_per_1000) from future_reduced_population) as z_score_future\n",
    "FROM future_reduced_population\n",
    "),\n",
    "\n",
    "zscore_toilets AS (\n",
    "SELECT sa2_code21, \n",
    "\ttoilet_total,\n",
    "\t(toilet_total - (select avg(toilet_total) from filtered_toilets)) / (select stddev(toilet_total) from filtered_toilets) as z_score_toilets\n",
    "FROM filtered_toilets\n",
    "), \n",
    "\n",
    "zscore_employment AS (\n",
    "SELECT sa2_code, \n",
    "\temployment_percentage,\n",
    "\t(employment_percentage - (select avg(employment_percentage) from filtered_unemployment)) / (select stddev(employment_percentage) from filtered_unemployment) as z_score_employment\n",
    "FROM filtered_unemployment\n",
    "),\n",
    "\n",
    "zscore_traffic AS (\n",
    "SELECT sa2_code21, \n",
    "\ttraffic_camera_count,\n",
    "\t(traffic_camera_count - (select avg(traffic_camera_count) from filtered_traffic)) / (select stddev(traffic_camera_count) from filtered_traffic) as z_score_traffic\n",
    "FROM filtered_traffic\n",
    "), \n",
    "\n",
    "\n",
    "total_zscore as ( \n",
    "\tSELECT \n",
    "\t\tsa2_boundaries.sa2_code21,\n",
    "        sa2_boundaries.geom,\n",
    "        sa2_boundaries.sa2_name21,\n",
    "\t\tstops_total, \n",
    "\t\tz_score_stops,\n",
    "\t\tretail_total_businesses,\n",
    "\t\tz_score_retail,\n",
    "\t\thealth_total_businesses, \n",
    "\t\tz_score_health,\n",
    "\t\tpolling_total,\n",
    "\t\tz_score_pol,\n",
    "\t\tprimary_per_1000, \n",
    "\t\tz_score_primary,\n",
    "\t\tsecondary_per_1000, \n",
    "\t\tz_score_secondary,\n",
    "\t\tfuture_per_1000, \n",
    "\t\tz_score_future,\n",
    "\t\t(COALESCE(z_score_stops, 0) + COALESCE(z_score_retail, 0) + COALESCE(z_score_health, 0) + COALESCE(z_score_pol, 0) + COALESCE(z_score_primary, 0) + COALESCE(z_score_secondary, 0) + COALESCE(z_score_future, 0)) AS x_val\n",
    "\tFROM sa2_boundaries\n",
    "\tLEFT JOIN zscore_stops\n",
    "\tON sa2_boundaries.sa2_code21 = zscore_stops.sa2_code\n",
    "\tLEFT JOIN zscore_businesses \n",
    "\tON sa2_boundaries.sa2_code21 = zscore_businesses.sa2_code\n",
    "\tLEFT JOIN zscore_pol \n",
    "\tON sa2_boundaries.sa2_code21 = zscore_pol.sa2_code21\n",
    "\tLEFT JOIN zscore_primary \n",
    "\tON sa2_boundaries.sa2_code21 = zscore_primary.sa2_code\n",
    "\tLEFT JOIN zscore_secondary\n",
    "\tON sa2_boundaries.sa2_code21 = zscore_secondary.sa2_code\n",
    "\tLEFT JOIN zscore_future\n",
    "\tON sa2_boundaries.sa2_code21 = zscore_future.sa2_code\n",
    "    LEFT JOIN income\n",
    "    ON sa2_boundaries.sa2_code21 = income.sa2_code\n",
    ")\n",
    "\n",
    "select *, (1 / (1 + exp(-\"x_val\"))) as sigmoid_val from total_zscore\n",
    "\n",
    "\n",
    "\n",
    "\"\"\",conn)"
   ]
  },
  {
   "cell_type": "code",
   "execution_count": null,
   "id": "e8de9c9c",
   "metadata": {},
   "outputs": [],
   "source": [
    "sql = \"\"\"\n",
    "\n",
    "DROP TABLE IF EXISTS unextended_data;\n",
    "CREATE TABLE unextended_data (\n",
    "    sa2_code21 INTEGER PRIMARY KEY,\n",
    "    sa2_name21 VARCHAR(100),\n",
    "    stops_total INTEGER,\n",
    "    z_score_stops FLOAT,\n",
    "    retail_total_businesses INTEGER,\n",
    "    z_score_retail FLOAT,\n",
    "    health_total_businesses INTEGER,\n",
    "    z_score_health FLOAT,\n",
    "    polling_total INTEGER,\n",
    "    z_score_pol FLOAT,\n",
    "    primary_per_1000 FLOAT, \n",
    "    z_score_primary FLOAT,\n",
    "    secondary_per_1000 FLOAT,\n",
    "    z_score_secondary FLOAT,\n",
    "    future_per_1000 FLOAT,\n",
    "    z_score_future FLOAT,\n",
    "    x_val FLOAT,\n",
    "    earners INTEGER,\n",
    "    median_age INTEGER,\n",
    "    median_income INTEGER,\n",
    "    mean_income INTEGER,\n",
    "    sigmoid_val FLOAT,\n",
    "    geom GEOMETRY(MULTIPOLYGON,4326)\n",
    "\n",
    ");\"\"\"\n",
    "\n",
    "query(conn, sql)"
   ]
  },
  {
   "cell_type": "code",
   "execution_count": null,
   "id": "8233571b",
   "metadata": {},
   "outputs": [],
   "source": [
    "unextended_data.to_sql('unextended_data', conn, if_exists='append', index=False, dtype={'geom': Geometry('MULTIPOLYGON', 4326)})\n",
    "query(conn, \"select * from unextended_data\")"
   ]
  },
  {
   "cell_type": "code",
   "execution_count": null,
   "id": "2e3a0c9b",
   "metadata": {},
   "outputs": [],
   "source": [
    "sql = \"\"\"\n",
    "CREATE INDEX unextended_data_geom_idx ON unextended_data USING GIST(geom);\n",
    "\"\"\"\n",
    "query(conn, sql)"
   ]
  },
  {
   "cell_type": "code",
   "execution_count": null,
   "id": "266f8143",
   "metadata": {},
   "outputs": [],
   "source": [
    "extended_data = pd.read_sql_query(\"\"\"\n",
    "\n",
    "WITH filtered_stops AS (\n",
    "\tSELECT sa2_boundaries.sa2_code21 AS sa2_code, COUNT(*) AS stops_total FROM sa2_boundaries \n",
    "\tJOIN stops\n",
    "\tON ST_Contains(sa2_boundaries.geom, stops.geom)\n",
    "\tGROUP BY sa2_code21\n",
    "),\n",
    "\n",
    "filtered_businesses AS (\n",
    "\tSELECT a.sa2_code, \n",
    "\t\ta.sa2_name, \n",
    "\t\ta.total_businesses AS retail_total_businesses, \n",
    "\t\tb.total_businesses as health_total_businesses, total_people, \n",
    "\t\t(cast(b.total_businesses as float) / total_people) * 1000 as health_businesses_per_1000, \n",
    "\t\t(cast(a.total_businesses as float) / total_people) * 1000 as retail_businesses_per_1000 \n",
    "\tFROM businesses a, businesses b, population\n",
    "\tWHERE a.sa2_code = b.sa2_code and b.sa2_code = population.sa2_code\n",
    "\tAND a.industry_name = 'Health Care and Social Assistance' AND b.industry_name = 'Retail Trade'\n",
    "\tand total_people >= 100\n",
    "), \n",
    "\n",
    "filtered_pol AS (\n",
    "\tSELECT sa2_code21, count(*) AS polling_total FROM sa2_boundaries \n",
    "\tJOIN polling\n",
    "\tON ST_Contains(sa2_boundaries.geom, polling.geom)\n",
    "\tGROUP BY sa2_code21\n",
    "), \n",
    "\t\n",
    "filtered_primary AS ( \n",
    "\tselect sa2_code21, \n",
    "\t\tCOUNT(catchments_primary.use_id) AS primary_catchments\n",
    "\tFROM sa2_boundaries \n",
    "\tjoin catchments_primary\n",
    "\ton ST_intersects(sa2_boundaries.geom, catchments_primary.geom)\n",
    "\tgroup by sa2_code21\n",
    "), \n",
    "\n",
    "primary_reduced_population as (\n",
    "select sa2_code,\n",
    "\t(cast(primary_catchments as float)/(\"0-4_people\" + \"5-9_people\" + \"10-14_people\" + \"15-19_people\") ) * 1000 as primary_per_1000\n",
    "\tfrom filtered_primary\n",
    "\tjoin population \n",
    "\ton filtered_primary.sa2_code21 = population.sa2_code\n",
    "\twhere total_people >= 100\t\n",
    "),\n",
    "\n",
    "filtered_secondary AS (\n",
    "\tSELECT sa2_code21, COUNT(*) AS secondary_catchments FROM sa2_boundaries \n",
    "\tJOIN catchments_secondary\n",
    "\tON ST_Intersects(sa2_boundaries.geom, catchments_secondary.geom)\n",
    "\tGROUP BY sa2_code21\n",
    "), \n",
    "\n",
    "secondary_reduced_population as (\n",
    "select sa2_code,\n",
    "\t(cast(secondary_catchments as float)/(\"0-4_people\" + \"5-9_people\" + \"10-14_people\" + \"15-19_people\") ) * 1000 as secondary_per_1000\n",
    "\tfrom filtered_secondary\n",
    "\tjoin population \n",
    "\ton filtered_secondary.sa2_code21 = population.sa2_code\n",
    "\twhere total_people >= 100\t\n",
    "),\n",
    "\n",
    "filtered_future AS (\n",
    "\tSELECT sa2_code21, COUNT(*) AS future_catchments FROM sa2_boundaries \n",
    "\tJOIN catchments_future\n",
    "\tON ST_intersects(sa2_boundaries.geom, catchments_future.geom)\n",
    "\tGROUP BY sa2_code21\n",
    "),\n",
    "\n",
    "future_reduced_population as (\n",
    "select sa2_code,\n",
    "\t(cast(future_catchments as float)/(\"0-4_people\" + \"5-9_people\" + \"10-14_people\" + \"15-19_people\") ) * 1000 as future_per_1000\n",
    "\tfrom filtered_future\n",
    "\tjoin population \n",
    "\ton filtered_future.sa2_code21 = population.sa2_code\n",
    "\twhere total_people >= 100\t\n",
    "),\n",
    "\n",
    "filtered_toilets AS (\n",
    "\tSELECT sa2_code21, COUNT(*) AS toilet_total FROM sa2_boundaries \n",
    "\tJOIN toilets\n",
    "\tON ST_contains(sa2_boundaries.geom, toilets.geom)\n",
    "\tGROUP BY sa2_code21\n",
    "),\n",
    "\n",
    "filtered_unemployment AS (\n",
    "\tSELECT population.sa2_code, \n",
    "\tpopulation.sa2_name, \n",
    "\t\"per_unempl\", \n",
    "\t(100 - per_unempl) as employment_percentage,\n",
    "\t(total_people - \"0-4_people\" - \"5-9_people\" - \"10-14_people\") AS adult_population, \n",
    "\tROUND(((total_people - \"0-4_people\" - \"5-9_people\" - \"10-14_people\") - ((per_unempl / 100) * (total_people - \"0-4_people\" - \"5-9_people\" - \"10-14_people\")))) AS total_employed \n",
    "\tFROM  population\n",
    "\tjoin unemployment\n",
    "\tON population.sa2_code = unemployment.sa2_code\n",
    "\twhere total_people >= 100\n",
    "),\n",
    "\n",
    "filtered_traffic as (\n",
    "\tSELECT sa2_code21, sa2_name21, COUNT(*) AS traffic_camera_count FROM sa2_boundaries \n",
    "\tJOIN traffic\n",
    "\tON ST_intersects(sa2_boundaries.geom, traffic.geom)\n",
    "\tGROUP BY sa2_code21, sa2_name21\n",
    "),\n",
    "\n",
    "\n",
    "zscore_stops AS (\n",
    "SELECT sa2_code, \n",
    "\tstops_total,\n",
    "\t(stops_total - (select avg(stops_total) from filtered_stops)) / (select stddev(stops_total) from filtered_stops) as z_score_stops\n",
    "FROM filtered_stops\n",
    "), \n",
    "\n",
    "zscore_businesses AS (\n",
    "SELECT sa2_code, \n",
    "\tretail_total_businesses, \n",
    "\t(retail_businesses_per_1000 - (select avg(retail_businesses_per_1000) from filtered_businesses)) / (select stddev(retail_businesses_per_1000) from filtered_businesses) as z_score_retail, \n",
    "\thealth_total_businesses,\n",
    "\t(health_businesses_per_1000 - (select avg(health_businesses_per_1000) from filtered_businesses)) / (select stddev(health_businesses_per_1000) from filtered_businesses) as z_score_health \n",
    "FROM filtered_businesses\n",
    "),\n",
    "\n",
    "zscore_pol AS (\n",
    "SELECT sa2_code21, \n",
    "\tpolling_total,\n",
    "\t(polling_total - (select avg(polling_total) from filtered_pol)) / (select stddev(polling_total) from filtered_pol) as z_score_pol\n",
    "FROM filtered_pol\n",
    "), \n",
    "\n",
    "zscore_primary AS (\n",
    "SELECT sa2_code, \n",
    "\tprimary_per_1000,\n",
    "\t(primary_per_1000 - (select avg(primary_per_1000) from primary_reduced_population)) / (select stddev(primary_per_1000) from primary_reduced_population) as z_score_primary\n",
    "FROM primary_reduced_population\n",
    "),\n",
    "\n",
    "zscore_secondary AS (\n",
    "SELECT sa2_code, \n",
    "\tsecondary_per_1000,\n",
    "\t(secondary_per_1000 - (select avg(secondary_per_1000) from secondary_reduced_population)) / (select stddev(secondary_per_1000) from secondary_reduced_population) as z_score_secondary\n",
    "FROM secondary_reduced_population\n",
    "),\n",
    "\n",
    "zscore_future AS (\n",
    "SELECT sa2_code, \n",
    "\tfuture_per_1000,\n",
    "\t(future_per_1000 - (select avg(future_per_1000) from future_reduced_population)) / (select stddev(future_per_1000) from future_reduced_population) as z_score_future\n",
    "FROM future_reduced_population\n",
    "),\n",
    "\n",
    "zscore_toilets AS (\n",
    "SELECT sa2_code21, \n",
    "\ttoilet_total,\n",
    "\t(toilet_total - (select avg(toilet_total) from filtered_toilets)) / (select stddev(toilet_total) from filtered_toilets) as z_score_toilets\n",
    "FROM filtered_toilets\n",
    "), \n",
    "\n",
    "zscore_employment AS (\n",
    "SELECT sa2_code, \n",
    "\temployment_percentage,\n",
    "\t(employment_percentage - (select avg(employment_percentage) from filtered_unemployment)) / (select stddev(employment_percentage) from filtered_unemployment) as z_score_employment\n",
    "FROM filtered_unemployment\n",
    "),\n",
    "\n",
    "zscore_traffic AS (\n",
    "SELECT sa2_code21, \n",
    "\ttraffic_camera_count,\n",
    "\t(traffic_camera_count - (select avg(traffic_camera_count) from filtered_traffic)) / (select stddev(traffic_camera_count) from filtered_traffic) as z_score_traffic\n",
    "FROM filtered_traffic\n",
    "), \n",
    "\n",
    "\n",
    "total_zscore as ( \n",
    "\tSELECT \n",
    "\t\tsa2_boundaries.sa2_code21,\n",
    "        sa2_boundaries.geom,\n",
    "        sa2_boundaries.sa2_name21,\n",
    "\t\tstops_total, \n",
    "\t\tz_score_stops,\n",
    "\t\tretail_total_businesses,\n",
    "\t\tz_score_retail,\n",
    "\t\thealth_total_businesses, \n",
    "\t\tz_score_health,\n",
    "\t\tpolling_total,\n",
    "\t\tz_score_pol,\n",
    "\t\tprimary_per_1000, \n",
    "\t\tz_score_primary,\n",
    "\t\tsecondary_per_1000, \n",
    "\t\tz_score_secondary,\n",
    "\t\tfuture_per_1000, \n",
    "\t\tz_score_future,\n",
    "        toilet_total,\n",
    "        z_score_toilets,\n",
    "        employment_percentage, \n",
    "        z_score_employment,\n",
    "        traffic_camera_count,\n",
    "        z_score_traffic,\n",
    "\t\t(COALESCE(z_score_stops, 0) + COALESCE(z_score_retail, 0) + COALESCE(z_score_health, 0) + COALESCE(z_score_pol, 0) + COALESCE(z_score_primary, 0) + COALESCE(z_score_secondary, 0) + COALESCE(z_score_future, 0) + COALESCE(z_score_toilets, 0) + COALESCE(z_score_employment, 0) + COALESCE(z_score_traffic, 0)) AS x_val\n",
    "\tFROM sa2_boundaries\n",
    "\tLEFT JOIN zscore_stops\n",
    "\tON sa2_boundaries.sa2_code21 = zscore_stops.sa2_code\n",
    "\tLEFT JOIN zscore_businesses \n",
    "\tON sa2_boundaries.sa2_code21 = zscore_businesses.sa2_code\n",
    "\tLEFT JOIN zscore_pol \n",
    "\tON sa2_boundaries.sa2_code21 = zscore_pol.sa2_code21\n",
    "\tLEFT JOIN zscore_primary \n",
    "\tON sa2_boundaries.sa2_code21 = zscore_primary.sa2_code\n",
    "\tLEFT JOIN zscore_secondary\n",
    "\tON sa2_boundaries.sa2_code21 = zscore_secondary.sa2_code\n",
    "\tLEFT JOIN zscore_future\n",
    "\tON sa2_boundaries.sa2_code21 = zscore_future.sa2_code\n",
    "\tLEFT JOIN zscore_toilets\n",
    "\tON sa2_boundaries.sa2_code21 = zscore_toilets.sa2_code21\n",
    "\tLEFT JOIN zscore_employment\n",
    "\tON sa2_boundaries.sa2_code21 = zscore_employment.sa2_code\n",
    "    LEFT JOIN zscore_traffic\n",
    "\tON sa2_boundaries.sa2_code21 = zscore_traffic.sa2_code21\n",
    "    LEFT JOIN income\n",
    "    ON sa2_boundaries.sa2_code21 = income.sa2_code\n",
    ")\n",
    "\n",
    "select *, (1 / (1 + exp(-\"x_val\"))) as sigmoid_val from total_zscore\n",
    "\n",
    "\n",
    "\n",
    "\n",
    "\"\"\",conn)"
   ]
  },
  {
   "cell_type": "code",
   "execution_count": null,
   "id": "95a170f9",
   "metadata": {},
   "outputs": [],
   "source": [
    "sql = \"\"\"\n",
    "\n",
    "DROP TABLE IF EXISTS extended_data;\n",
    "CREATE TABLE extended_data (\n",
    "    sa2_code21 INTEGER PRIMARY KEY,\n",
    "    sa2_name21 VARCHAR(100),\n",
    "    stops_total INTEGER,\n",
    "    z_score_stops FLOAT,\n",
    "    retail_total_businesses INTEGER,\n",
    "    z_score_retail FLOAT,\n",
    "    health_total_businesses INTEGER,\n",
    "    z_score_health FLOAT,\n",
    "    polling_total INTEGER,\n",
    "    z_score_pol FLOAT,\n",
    "    primary_per_1000 FLOAT, \n",
    "    z_score_primary FLOAT,\n",
    "    secondary_per_1000 FLOAT,\n",
    "    z_score_secondary FLOAT,\n",
    "    future_per_1000 FLOAT,\n",
    "    z_score_future FLOAT,\n",
    "    toilet_total INTEGER,\n",
    "    z_score_toilets FLOAT,\n",
    "    employment_percentage FLOAT, \n",
    "    z_score_employment FLOAT,\n",
    "    traffic_camera_count INTEGER,\n",
    "    z_score_traffic FLOAT,\n",
    "    x_val FLOAT,\n",
    "    earners INTEGER,\n",
    "    median_age INTEGER,\n",
    "    median_income INTEGER,\n",
    "    mean_income INTEGER,\n",
    "    sigmoid_val FLOAT,\n",
    "    geom GEOMETRY(MULTIPOLYGON,4326)\n",
    "\n",
    ");\"\"\"\n",
    "\n",
    "query(conn, sql)"
   ]
  },
  {
   "cell_type": "code",
   "execution_count": null,
   "id": "5be18b22",
   "metadata": {},
   "outputs": [],
   "source": [
    "extended_data.to_sql('extended_data', conn, if_exists='append', index=False, dtype={'geom': Geometry('MULTIPOLYGON', 4326)})\n",
    "query(conn, \"select * from extended_data\")"
   ]
  },
  {
   "cell_type": "code",
   "execution_count": null,
   "id": "82ef6d29",
   "metadata": {},
   "outputs": [],
   "source": [
    "sql = \"\"\"\n",
    "CREATE INDEX extended_data_geom_idx ON extended_data USING GIST(geom);\n",
    "\"\"\"\n",
    "query(conn, sql)"
   ]
  },
  {
   "cell_type": "code",
   "execution_count": null,
   "id": "789479ed",
   "metadata": {},
   "outputs": [],
   "source": [
    "sa2map_unextended = gpd.read_postgis(\"SELECT geom, sigmoid_val FROM unextended_data \", conn, geom_col='geom')\n",
    "sa2map_unextended.plot(column='sigmoid_val', legend=True, figsize=(10,10))\n",
    "plt.xlabel('Longitude')\n",
    "plt.ylabel('Latitude')\n",
    "plt.title('Unextended Data \"Well Resourced\" Score Heatmap')\n",
    "plt.savefig('unextended heatmap.png', dpi = 300)\n",
    "plt.show()"
   ]
  },
  {
   "cell_type": "code",
   "execution_count": null,
   "id": "5a8e7a7a",
   "metadata": {},
   "outputs": [],
   "source": [
    "sa2map_extended = gpd.read_postgis(\"SELECT geom, sigmoid_val FROM extended_data \", conn, geom_col='geom')\n",
    "sa2map_extended.plot(column='sigmoid_val', legend=True, figsize=(10,10))\n",
    "plt.xlabel('Longitude')\n",
    "plt.ylabel('Latitude')\n",
    "plt.title('Extended Data \"Well Resourced\" Score Heatmap')\n",
    "plt.savefig('extended heatmap.png', dpi = 300)\n",
    "plt.show()"
   ]
  },
  {
   "cell_type": "markdown",
   "id": "c4f9555f",
   "metadata": {},
   "source": [
    "### Correlation Analysis"
   ]
  },
  {
   "cell_type": "code",
   "execution_count": null,
   "id": "2984dd7d",
   "metadata": {},
   "outputs": [],
   "source": [
    "#filtering out NaN income rows to include only income data that matches with sa2 boundaries\n",
    "unextended_correlation_data = unextended_data[unextended_data['mean_income'].notna()]\n",
    "extended_correlation_data = extended_data[extended_data['mean_income'].notna()]"
   ]
  },
  {
   "cell_type": "code",
   "execution_count": null,
   "id": "bcab7d44",
   "metadata": {},
   "outputs": [],
   "source": [
    "#Calculating correlation coefficient for original unextended data\n",
    "r_coefficient = pearsonr(unextended_correlation_data['median_income'], unextended_correlation_data['sigmoid_val'])\n",
    "print('r coefficient:',r_coefficient[0])\n",
    "\n",
    "#Creating scatter plot of median income and wellness score and line of best fit for unextended data, with correlation coefficient \n",
    "plt.scatter(unextended_data['median_income'], unextended_data['sigmoid_val'])\n",
    "a, b = np.polyfit(unextended_correlation_data['median_income'], unextended_correlation_data['sigmoid_val'], 1)\n",
    "lobf = a*unextended_correlation_data['median_income']+b\n",
    "plt.plot(unextended_correlation_data['median_income'],lobf, color='red', linestyle = 'dashed')\n",
    "plt.xlabel('Median Income')\n",
    "plt.ylabel('\"Well Resourced\" Score')\n",
    "plt.title('SA2 Unextended Data Score vs Median Income')\n",
    "plt.text(16500, 0.9, f'Correlation Coefficient: {r_coefficient[0]:.2f}', fontsize=10)\n",
    "plt.savefig('unextended.png', dpi = 300)\n",
    "plt.show()\n"
   ]
  },
  {
   "cell_type": "code",
   "execution_count": null,
   "id": "e35ba2c3",
   "metadata": {},
   "outputs": [],
   "source": [
    "#Calculation of r coefficient for extended data\n",
    "r_coefficient_ext = pearsonr(extended_correlation_data['median_income'], extended_correlation_data['sigmoid_val'])\n",
    "print('r_coefficient:',r_coefficient_ext[0])\n",
    "\n",
    "#Scatter plot of median income and wellness score for extended data\n",
    "plt.scatter(extended_correlation_data['median_income'], extended_correlation_data['sigmoid_val'])\n",
    "a, b = np.polyfit(extended_correlation_data['median_income'], extended_correlation_data['sigmoid_val'], 1)\n",
    "lobf = a*extended_correlation_data['median_income']+b\n",
    "plt.plot(extended_correlation_data['median_income'],lobf, color='red', linestyle = 'dashed')\n",
    "plt.xlabel('Median Income')\n",
    "plt.ylabel('\"Well Resourced\" Score')\n",
    "plt.title('SA2 Extended Data Score vs Median Income')\n",
    "plt.text(16500, 0.9, f'Correlation Coefficient: {r_coefficient_ext[0]:.2f}', fontsize=10)\n",
    "plt.savefig('extended.png', dpi = 300)\n",
    "plt.show()\n",
    "\n"
   ]
  }
 ],
 "metadata": {
  "kernelspec": {
   "display_name": "Python 3 (ipykernel)",
   "language": "python",
   "name": "python3"
  },
  "language_info": {
   "codemirror_mode": {
    "name": "ipython",
    "version": 3
   },
   "file_extension": ".py",
   "mimetype": "text/x-python",
   "name": "python",
   "nbconvert_exporter": "python",
   "pygments_lexer": "ipython3",
   "version": "3.10.11"
  }
 },
 "nbformat": 4,
 "nbformat_minor": 5
}
